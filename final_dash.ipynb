{
 "cells": [
  {
   "cell_type": "code",
   "execution_count": 27,
   "id": "10f6190a-6447-480e-8c52-7646cc90876e",
   "metadata": {
    "ExecuteTime": {
     "end_time": "2025-05-27T21:47:00.455635Z",
     "start_time": "2025-05-27T21:47:00.447183Z"
    }
   },
   "outputs": [],
   "source": [
    "import pandas as pd\n",
    "import numpy as np\n",
    "import dash\n",
    "from dash import html\n",
    "from dash import dcc\n",
    "from dash.dependencies import Input, Output\n",
    "import plotly.express as px"
   ]
  },
  {
   "cell_type": "code",
   "execution_count": 28,
   "id": "b8d1543f-f5f7-4c3d-bc17-84718b972bc2",
   "metadata": {
    "ExecuteTime": {
     "end_time": "2025-05-27T21:47:00.519100Z",
     "start_time": "2025-05-27T21:47:00.511070Z"
    }
   },
   "outputs": [],
   "source": [
    "url = \"https://cf-courses-data.s3.us.cloud-object-storage.appdomain.cloud/IBM-DS0321EN-SkillsNetwork/datasets/spacex_launch_dash.csv\""
   ]
  },
  {
   "cell_type": "code",
   "execution_count": 29,
   "id": "9b8a7547-0c1a-456f-b6eb-fef22da0cee5",
   "metadata": {
    "ExecuteTime": {
     "end_time": "2025-05-27T21:47:00.771211Z",
     "start_time": "2025-05-27T21:47:00.569564Z"
    }
   },
   "outputs": [],
   "source": [
    "spacex_df = pd.read_csv(url).drop(columns=\"Unnamed: 0\")"
   ]
  },
  {
   "cell_type": "code",
   "execution_count": 30,
   "id": "a605c8a8-763a-41f6-8c25-816ceed84692",
   "metadata": {
    "ExecuteTime": {
     "end_time": "2025-05-27T21:47:00.827036Z",
     "start_time": "2025-05-27T21:47:00.808938Z"
    }
   },
   "outputs": [],
   "source": [
    "max_payload = spacex_df['Payload Mass (kg)'].max()\n",
    "min_payload = spacex_df['Payload Mass (kg)'].min()"
   ]
  },
  {
   "cell_type": "code",
   "execution_count": 31,
   "id": "d9e84ffa-1b67-4c34-97a0-8d7cff896287",
   "metadata": {
    "ExecuteTime": {
     "end_time": "2025-05-27T21:47:01.424237Z",
     "start_time": "2025-05-27T21:47:00.863497Z"
    }
   },
   "outputs": [],
   "source": [
    "# Create a dash application\n",
    "app = dash.Dash(__name__)"
   ]
  },
  {
   "cell_type": "code",
   "execution_count": 32,
   "id": "348cf41e2aca0e71",
   "metadata": {
    "ExecuteTime": {
     "end_time": "2025-05-27T21:47:01.553531Z",
     "start_time": "2025-05-27T21:47:01.538583Z"
    }
   },
   "outputs": [],
   "source": [
    "dropdown_options = [\n",
    "    {'label': 'ALL', 'value': 'ALL'},\n",
    "    {'label': 'CCAFS LC-40', 'value': 'CCAFS LC-40'},\n",
    "    {'label': 'VAFB SLC-4E', 'value': 'VAFB SLC-4E'},\n",
    "    {'label': 'KSC LC-39A', 'value': 'KSC LC-39A'},\n",
    "    {'label': 'CCAFS SLC-40', 'value': 'CCAFS SLC-40'}\n",
    "]"
   ]
  },
  {
   "cell_type": "code",
   "execution_count": 33,
   "id": "64438105-77a8-4f6b-a19d-9fe701ed47e5",
   "metadata": {
    "ExecuteTime": {
     "end_time": "2025-05-27T21:47:01.611720Z",
     "start_time": "2025-05-27T21:47:01.590914Z"
    }
   },
   "outputs": [],
   "source": [
    "# Create an app layout\n",
    "app.layout = html.Div(children=[html.H1('SpaceX Launch Records Dashboard',\n",
    "                                        style={'textAlign': 'center', 'color': '#503D36',\n",
    "                                               'font-size': 40}),\n",
    "                                # TASK 1: Add a dropdown list to enable Launch Site selection\n",
    "                                # The default select value is for ALL sites\n",
    "                                dcc.Dropdown(\n",
    "                                    id='site-dropdown',\n",
    "                                    value=\"ALL\",\n",
    "                                    options=dropdown_options,\n",
    "                                    placeholder=\"Select a Launch Site here\",\n",
    "                                    searchable=True\n",
    "                                ),\n",
    "                                html.Br(),\n",
    "\n",
    "\n",
    "                                # TASK 2: Add a pie chart to show the total successful launches count for all sites\n",
    "                                # If a specific launch site was selected, show the Success vs. Failed counts for the site\n",
    "\n",
    "                                html.Div(dcc.Graph(id='success-pie-chart')),\n",
    "                                html.Br(),\n",
    "\n",
    "                                html.P(\"Payload range (Kg):\"),\n",
    "                                # TASK 3: Add a slider to select payload range\n",
    "                                dcc.RangeSlider(\n",
    "                                    id='payload-slider',\n",
    "                                    min=0,\n",
    "                                    max=10000,\n",
    "                                    step=1000,\n",
    "                                    marks={int(num): str(int(num)) for num in np.linspace(start=0, stop=9600, num=5, endpoint=True)},\n",
    "                                    value=[min_payload, max_payload]\n",
    "                                ),\n",
    "                                #dcc.RangeSlider(id='payload-slider',...)\n",
    "\n",
    "                                # TASK 4: Add a scatter chart to show the correlation between payload and launch success\n",
    "                                html.Div(dcc.Graph(id='success-payload-scatter-chart')),\n",
    "                                ])"
   ]
  },
  {
   "cell_type": "code",
   "execution_count": 34,
   "id": "1625aa7aa1a74169",
   "metadata": {
    "ExecuteTime": {
     "end_time": "2025-05-27T21:47:01.670503Z",
     "start_time": "2025-05-27T21:47:01.649580Z"
    }
   },
   "outputs": [],
   "source": [
    "@app.callback(Output(component_id='success-pie-chart', component_property='figure'),\n",
    "              Input(component_id='site-dropdown', component_property='value'))\n",
    "\n",
    "def get_pie_chart(entered_site):\n",
    "    if entered_site == 'ALL':\n",
    "        fig = px.pie(\n",
    "            spacex_df,\n",
    "            values='class',\n",
    "            names='Launch Site',\n",
    "            title='Total Success Launches By Sites',\n",
    "            hole=0.3\n",
    "        )\n",
    "\n",
    "    else:\n",
    "        # return the outcomes piechart for a selected site\n",
    "        filtered_df = spacex_df[spacex_df[\"Launch Site\"] == entered_site].copy()\n",
    "        filtered_df[\"Success\"] = filtered_df[\"class\"].apply(lambda x: \"Success\" if x == 1 else \"Failure\")\n",
    "        fig = px.pie(\n",
    "            filtered_df,\n",
    "            names='Success',\n",
    "            title=f'Total Success Launches for site {entered_site}',\n",
    "            hole=0.3\n",
    "        )\n",
    "\n",
    "    fig.update_layout(\n",
    "    title={\n",
    "        \"font\": {\"size\": 23},\n",
    "        \"x\": 0.5  # Centers the title\n",
    "    })\n",
    "\n",
    "\n",
    "    return fig"
   ]
  },
  {
   "cell_type": "code",
   "execution_count": 35,
   "id": "7257ee8a01910753",
   "metadata": {
    "ExecuteTime": {
     "end_time": "2025-05-27T21:47:01.739142Z",
     "start_time": "2025-05-27T21:47:01.721057Z"
    }
   },
   "outputs": [],
   "source": [
    "@app.callback(\n",
    "    Output(component_id='success-payload-scatter-chart', component_property='figure'),\n",
    "    [Input(component_id='payload-slider', component_property='value'), Input(component_id='site-dropdown', component_property='value')])\n",
    "\n",
    "def update_input_container(payload_range, entered_site):\n",
    "\n",
    "    min_val, max_val = payload_range\n",
    "\n",
    "    filtered_df = spacex_df[spacex_df[\"Payload Mass (kg)\"].between(min_val, max_val)].copy()\n",
    "\n",
    "    title = \"Correlation between Payload and Success for all Sites\"\n",
    "\n",
    "    if entered_site != \"ALL\":\n",
    "\n",
    "        filtered_df = spacex_df[spacex_df[\"Launch Site\"] == entered_site].copy()\n",
    "\n",
    "        title = \"Correlation between Payload and Success for Site {}\".format(entered_site)\n",
    "\n",
    "\n",
    "    fig = px.scatter(\n",
    "            filtered_df,\n",
    "            x=\"Payload Mass (kg)\",\n",
    "            y=\"class\",\n",
    "            color=\"Booster Version Category\",\n",
    "            title=title\n",
    "    )\n",
    "\n",
    "    fig.update_yaxes(\n",
    "    tickvals=[0, 1],\n",
    "    ticktext=[\"Failure\", \"Success\"],\n",
    ")\n",
    "\n",
    "    fig.update_layout(\n",
    "    title= {\n",
    "        \"font\": {\"size\": 23},\n",
    "        \"x\": 0.5  # Centers the title\n",
    "    })\n",
    "\n",
    "    return fig"
   ]
  },
  {
   "cell_type": "code",
   "execution_count": 36,
   "id": "eb37c5f6-81d5-4781-bb1b-54182b2df196",
   "metadata": {
    "ExecuteTime": {
     "end_time": "2025-05-27T21:47:02.033942Z",
     "start_time": "2025-05-27T21:47:01.820747Z"
    }
   },
   "outputs": [
    {
     "data": {
      "text/html": [
       "\n",
       "        <iframe\n",
       "            width=\"100%\"\n",
       "            height=\"650\"\n",
       "            src=\"http://127.0.0.1:8088/\"\n",
       "            frameborder=\"0\"\n",
       "            allowfullscreen\n",
       "            \n",
       "        ></iframe>\n",
       "        "
      ],
      "text/plain": [
       "<IPython.lib.display.IFrame at 0x1977f2168d0>"
      ]
     },
     "metadata": {},
     "output_type": "display_data"
    }
   ],
   "source": [
    "app.run(debug=True, port=8088)"
   ]
  }
 ],
 "metadata": {
  "kernelspec": {
   "display_name": "Python 3 (ipykernel)",
   "language": "python",
   "name": "python3"
  },
  "language_info": {
   "codemirror_mode": {
    "name": "ipython",
    "version": 3
   },
   "file_extension": ".py",
   "mimetype": "text/x-python",
   "name": "python",
   "nbconvert_exporter": "python",
   "pygments_lexer": "ipython3",
   "version": "3.12.3"
  }
 },
 "nbformat": 4,
 "nbformat_minor": 5
}
